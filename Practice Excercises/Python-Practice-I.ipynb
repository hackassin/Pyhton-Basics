{
 "cells": [
  {
   "cell_type": "code",
   "execution_count": 2,
   "metadata": {},
   "outputs": [
    {
     "name": "stdout",
     "output_type": "stream",
     "text": [
      "42\n",
      "[2 4 3 2 1 1 0 3 2]\n"
     ]
    }
   ],
   "source": [
    "# Generates a binomial series\n",
    "# Have to revise binomial distribution\n",
    "import numpy as np\n",
    "seed=42\n",
    "n = 4\n",
    "p = 0.5\n",
    "np.random.seed(seed)\n",
    "dist = np.random.binomial(n,p,9)\n",
    "s = dist\n",
    "print(s)"
   ]
  },
  {
   "cell_type": "code",
   "execution_count": 5,
   "metadata": {},
   "outputs": [
    {
     "name": "stdout",
     "output_type": "stream",
     "text": [
      "[('d', 4), ('c', 3), ('a', 2), ('b', 1)]\n",
      "['a', 'c', 'd']\n"
     ]
    }
   ],
   "source": [
    "from collections import defaultdict\n",
    "\n",
    "string='ddddaacccb'\n",
    "n=3\n",
    "\n",
    "res = defaultdict(int)\n",
    "for char in string:\n",
    "    res[char]+=1\n",
    "    \n",
    "ordered_res = sorted(res.items(), key=lambda x: (-x[1], x[0]))\n",
    "print(ordered_res)\n",
    "ordered_list = [x[0] for x in ordered_res]\n",
    "print(sorted(ordered_list[:n]))"
   ]
  },
  {
   "cell_type": "code",
   "execution_count": 6,
   "metadata": {},
   "outputs": [
    {
     "name": "stdout",
     "output_type": "stream",
     "text": [
      "   age     sex     bmi  children smoker     region      charges   BMI_group\n",
      "0   19  female  27.900         0    yes  southwest  16884.92400  Overweight\n",
      "1   18    male  33.770         1     no  southeast   1725.55230       Obese\n",
      "2   28    male  33.000         3     no  southeast   4449.46200       Obese\n",
      "3   33    male  22.705         0     no  northwest  21984.47061      Normal\n",
      "4   32    male  28.880         0     no  northwest   3866.85520  Overweight\n"
     ]
    }
   ],
   "source": [
    "import pandas as pd \n",
    "pd.set_option('display.max_columns', 500)\n",
    "df=pd.read_csv(\"https://media-doselect.s3.amazonaws.com/generic/OzvzVqK4pgg4x7qEadoZMRyVR/insurance.csv\")\n",
    "def bmi_group(val):\n",
    "    if val<18.5:\n",
    "        return \"Underweight\"\n",
    "    if (val>=18.5) & (val<=24.9):\n",
    "        return \"Normal\"\n",
    "    if (val>24.9) & (val<=29.9):\n",
    "        return \"Overweight\"\n",
    "    if val>=30:\n",
    "        return \"Obese\"\n",
    "    \n",
    "df[\"BMI_group\"] = df.bmi.apply(bmi_group)\n",
    "print(df.head())"
   ]
  },
  {
   "cell_type": "code",
   "execution_count": 8,
   "metadata": {},
   "outputs": [
    {
     "name": "stdout",
     "output_type": "stream",
     "text": [
      "   age  sex     bmi  children  smoker  region      charges  BMI_group\n",
      "0   19    0  27.900         0       1       3  16884.92400          2\n",
      "1   18    1  33.770         1       0       2   1725.55230          1\n",
      "2   28    1  33.000         3       0       2   4449.46200          1\n",
      "3   33    1  22.705         0       0       1  21984.47061          0\n",
      "4   32    1  28.880         0       0       1   3866.85520          2\n"
     ]
    }
   ],
   "source": [
    "import pandas as pd \n",
    "from sklearn.preprocessing import LabelEncoder\n",
    "pd.set_option('display.max_columns', 500)\n",
    "df=pd.read_csv(\"https://media-doselect.s3.amazonaws.com/generic/831JKKEkW7kqd5M4evNva9LyB/insurance_grouped.csv\")\n",
    "le = LabelEncoder()\n",
    "#sex\n",
    "le.fit(df.sex.drop_duplicates()) \n",
    "df.sex = le.transform(df.sex)\n",
    "# smoker or not\n",
    "le.fit(df.smoker.drop_duplicates()) \n",
    "df.smoker = le.transform(df.smoker)\n",
    "#region\n",
    "le.fit(df.region.drop_duplicates()) \n",
    "df.region = le.transform(df.region)\n",
    "#changing data type\n",
    "df.BMI_group=df.BMI_group.astype(str)\n",
    "le.fit(df.BMI_group.drop_duplicates()) \n",
    "df.BMI_group = le.transform(df.BMI_group)\n",
    "print(df.head())"
   ]
  },
  {
   "cell_type": "code",
   "execution_count": 7,
   "metadata": {},
   "outputs": [
    {
     "name": "stdout",
     "output_type": "stream",
     "text": [
      "   age  sex     bmi  children  smoker  region      charges  BMI_group\n",
      "0   19    0  27.900         0       1       3  16884.92400          2\n",
      "1   18    1  33.770         1       0       2   1725.55230          1\n",
      "2   28    1  33.000         3       0       2   4449.46200          1\n",
      "3   33    1  22.705         0       0       1  21984.47061          0\n",
      "4   32    1  28.880         0       0       1   3866.85520          2\n"
     ]
    }
   ],
   "source": [
    "import pandas as pd \n",
    "from sklearn.preprocessing import LabelEncoder\n",
    "pd.set_option('display.max_columns', 500)\n",
    "df=pd.read_csv(\"https://media-doselect.s3.amazonaws.com/generic/831JKKEkW7kqd5M4evNva9LyB/insurance_grouped.csv\")\n",
    "le = LabelEncoder()\n",
    "#sex\n",
    "le.fit(df.sex) \n",
    "df.sex = le.transform(df.sex)\n",
    "# smoker or not\n",
    "le.fit(df.smoker) \n",
    "df.smoker = le.transform(df.smoker)\n",
    "#region\n",
    "le.fit(df.region) \n",
    "df.region = le.transform(df.region)\n",
    "#changing data type\n",
    "df.BMI_group=df.BMI_group.astype(str)\n",
    "le.fit(df.BMI_group) \n",
    "df.BMI_group = le.transform(df.BMI_group)\n",
    "print(df.head())"
   ]
  },
  {
   "cell_type": "code",
   "execution_count": 9,
   "metadata": {},
   "outputs": [
    {
     "name": "stdout",
     "output_type": "stream",
     "text": [
      "0.0038\n",
      "-0.0250\n",
      "0.7873\n"
     ]
    }
   ],
   "source": [
    "print(\"{:0.4f}\".format(round(df['smoker'].corr(df['bmi']), 4)))\n",
    "print(\"{:0.4f}\".format(round(df['smoker'].corr(df['age']), 4)))\n",
    "print(\"{:0.4f}\".format(round(df['smoker'].corr(df['charges']), 4)))"
   ]
  },
  {
   "cell_type": "markdown",
   "metadata": {},
   "source": [
    "R-Squared: How much variance is being explained by the model"
   ]
  },
  {
   "cell_type": "code",
   "execution_count": null,
   "metadata": {},
   "outputs": [],
   "source": [
    "import numpy as np\n",
    "import pandas as pd\n",
    "\n",
    "# Read training data\n",
    "train = pd.read_csv(\"https://media-doselect.s3.amazonaws.com/generic/QNdMORzykKkG4L3WQ17Xx53o3/insurance_training.csv\")\n",
    "\n",
    "# Read test data\n",
    "test = pd.read_csv(\"https://media-doselect.s3.amazonaws.com/generic/Mq5p8YpQoz3KbWJRE4Mey1Yoq/insurance_test.csv\")\n",
    "\n",
    "# Linear regression\n",
    "#import required libraries\n",
    "\n",
    "# Write the output\n",
    "test[\"predicted_charges\"]=y_test_pred\n",
    "test.to_csv(\"/code/output/predictions.csv\")\n"
   ]
  },
  {
   "cell_type": "markdown",
   "metadata": {},
   "source": [
    "Sample Input:\n",
    "[1,2,3,4,5,6,7]\n",
    "[1,3,7]\n",
    "Sample Output:\n",
    "[0,2,6]"
   ]
  },
  {
   "cell_type": "code",
   "execution_count": 10,
   "metadata": {},
   "outputs": [],
   "source": [
    "list1 = [1,2,3,4,5,6,7]\n",
    "list2 = [1,3,7]"
   ]
  },
  {
   "cell_type": "code",
   "execution_count": 12,
   "metadata": {},
   "outputs": [],
   "source": [
    "test = [lambda x: x for x in list1 if x in list2]"
   ]
  },
  {
   "cell_type": "code",
   "execution_count": 13,
   "metadata": {},
   "outputs": [
    {
     "data": {
      "text/plain": [
       "[<function __main__.<listcomp>.<lambda>>,\n",
       " <function __main__.<listcomp>.<lambda>>,\n",
       " <function __main__.<listcomp>.<lambda>>]"
      ]
     },
     "execution_count": 13,
     "metadata": {},
     "output_type": "execute_result"
    }
   ],
   "source": [
    "test"
   ]
  },
  {
   "cell_type": "code",
   "execution_count": 25,
   "metadata": {},
   "outputs": [],
   "source": [
    "pos = []"
   ]
  },
  {
   "cell_type": "code",
   "execution_count": 26,
   "metadata": {},
   "outputs": [],
   "source": [
    "for i,item in enumerate(list2):\n",
    "    if item in list1:\n",
    "        pos.append(list1.index(item))"
   ]
  },
  {
   "cell_type": "code",
   "execution_count": 27,
   "metadata": {},
   "outputs": [
    {
     "data": {
      "text/plain": [
       "[0, 2, 6]"
      ]
     },
     "execution_count": 27,
     "metadata": {},
     "output_type": "execute_result"
    }
   ],
   "source": [
    "pos"
   ]
  },
  {
   "cell_type": "code",
   "execution_count": null,
   "metadata": {},
   "outputs": [],
   "source": []
  }
 ],
 "metadata": {
  "kernelspec": {
   "display_name": "Python 3",
   "language": "python",
   "name": "python3"
  },
  "language_info": {
   "codemirror_mode": {
    "name": "ipython",
    "version": 3
   },
   "file_extension": ".py",
   "mimetype": "text/x-python",
   "name": "python",
   "nbconvert_exporter": "python",
   "pygments_lexer": "ipython3",
   "version": "3.7.3"
  }
 },
 "nbformat": 4,
 "nbformat_minor": 2
}
